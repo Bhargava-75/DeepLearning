{
  "nbformat": 4,
  "nbformat_minor": 0,
  "metadata": {
    "colab": {
      "provenance": []
    },
    "kernelspec": {
      "name": "python3",
      "display_name": "Python 3"
    },
    "language_info": {
      "name": "python"
    }
  },
  "cells": [
    {
      "cell_type": "code",
      "source": [
        "from google.colab import drive\n",
        "drive.mount('/content/drive')"
      ],
      "metadata": {
        "colab": {
          "base_uri": "https://localhost:8080/"
        },
        "id": "Xwc_7K33V4pF",
        "outputId": "5b2a447b-8679-45ad-e848-c26f670afd5c"
      },
      "execution_count": 4,
      "outputs": [
        {
          "output_type": "stream",
          "name": "stdout",
          "text": [
            "Mounted at /content/drive\n"
          ]
        }
      ]
    },
    {
      "cell_type": "code",
      "source": [
        "cd \"/content/drive/MyDrive/Transliteration\""
      ],
      "metadata": {
        "colab": {
          "base_uri": "https://localhost:8080/"
        },
        "id": "RWn16sWEXfI1",
        "outputId": "cd7bd264-7d7b-45ee-b188-961bdd54e3d0"
      },
      "execution_count": 5,
      "outputs": [
        {
          "output_type": "stream",
          "name": "stdout",
          "text": [
            "/content/drive/MyDrive/Transliteration\n"
          ]
        }
      ]
    },
    {
      "cell_type": "code",
      "source": [
        "ls"
      ],
      "metadata": {
        "colab": {
          "base_uri": "https://localhost:8080/"
        },
        "id": "Ijf_XqlXjuvF",
        "outputId": "832abb9b-2875-4e94-a60d-4fe2c947d16c"
      },
      "execution_count": 6,
      "outputs": [
        {
          "output_type": "stream",
          "name": "stdout",
          "text": [
            "Gidugu.ttf   hindi.ttf     hin_train.tsv  train.tsv\n",
            "hin_dev.tsv  hin_test.tsv  test.tsv       valid.tsv\n"
          ]
        }
      ]
    },
    {
      "cell_type": "code",
      "source": [
        "import numpy as np\n",
        "import tensorflow as tf\n",
        "from random import randint\n",
        "import matplotlib.pyplot as plt\n",
        "from numpy import array,argmax,array_equal\n",
        "import keras.backend as K\n",
        "from tensorflow.keras import models,Input\n",
        "from tensorflow.keras import backend as K\n",
        "from tensorflow.keras.models import Sequential, Model, load_model\n",
        "from tensorflow.keras.layers import LSTM, Bidirectional, SimpleRNN, GRU,Lambda,Dense, Flatten\n",
        "from tensorflow.keras.optimizers import Adam\n",
        "import matplotlib.ticker as ticker\n",
        "tf.keras.backend.set_floatx('float64')\n",
        "from tensorflow.keras.layers import TimeDistributed,RepeatVector\n",
        "from tensorflow.keras.callbacks import EarlyStopping\n",
        "from tensorflow.keras.utils import plot_model\n",
        "import matplotlib.pyplot as plt\n",
        "import matplotlib.ticker as ticker\n",
        "from matplotlib.font_manager import FontProperties\n",
        "import csv"
      ],
      "metadata": {
        "id": "zw35O4BRVoCV"
      },
      "execution_count": 7,
      "outputs": []
    },
    {
      "cell_type": "code",
      "source": [
        "import imageio\n",
        "import os\n",
        "from tqdm import tqdm_notebook as tqdm\n",
        "from PIL import Image\n",
        "from IPython.display import HTML as html_print\n",
        "from IPython.display import display"
      ],
      "metadata": {
        "id": "BpJamnsUfWlc"
      },
      "execution_count": 8,
      "outputs": []
    },
    {
      "cell_type": "code",
      "source": [
        "train_dir = \"train.tsv\"\n",
        "valid_dir = \"valid.tsv\"\n",
        "test_dir  = \"test.tsv\"\n",
        "# train_dir = \"hin_train.tsv\"\n",
        "# valid_dir = \"hin_dev.tsv\"\n",
        "# test_dir  = \"hin_test.tsv\""
      ],
      "metadata": {
        "id": "1LhyUV4jXzJG"
      },
      "execution_count": 9,
      "outputs": []
    },
    {
      "cell_type": "code",
      "source": [
        "telugu_font = FontProperties(fname='Gidugu.ttf')"
      ],
      "metadata": {
        "id": "yv2b37vRjopU"
      },
      "execution_count": 10,
      "outputs": []
    },
    {
      "cell_type": "code",
      "source": [
        "telugu_font"
      ],
      "metadata": {
        "colab": {
          "base_uri": "https://localhost:8080/"
        },
        "id": "KCJF90pAjybh",
        "outputId": "2a294011-25a3-4c5a-9746-1e609186f0e8"
      },
      "execution_count": 11,
      "outputs": [
        {
          "output_type": "execute_result",
          "data": {
            "text/plain": [
              "<matplotlib.font_manager.FontProperties at 0x7dd6df359390>"
            ]
          },
          "metadata": {},
          "execution_count": 11
        }
      ]
    },
    {
      "cell_type": "code",
      "source": [
        "import io\n",
        "def getCorpus(crp):\n",
        "  Eng = []\n",
        "  Telugu= []\n",
        "\n",
        "  with io.open(crp, encoding ='utf-8') as f:\n",
        "    for line in f:\n",
        "      if '\\t' not in line:\n",
        "        continue\n",
        "      tokens = line.rstrip().split(\"\\t\")\n",
        "      Eng.append(tokens[1])\n",
        "      Telugu.append(tokens[0])\n",
        "\n",
        "  return Eng, Telugu"
      ],
      "metadata": {
        "id": "5xmbSSf5YFZY"
      },
      "execution_count": 12,
      "outputs": []
    },
    {
      "cell_type": "code",
      "source": [
        "trainSrc, trainTgt = getCorpus(train_dir)\n",
        "validSrc, validTgt = getCorpus(valid_dir)\n",
        "testSrc, testTgt = getCorpus(test_dir)\n",
        "\n",
        "print(\"Training examples: \", len(trainSrc))\n",
        "print(\"Validation examples: \", len(validSrc))\n",
        "print(\"Testing examples: \", len(testSrc))"
      ],
      "metadata": {
        "colab": {
          "base_uri": "https://localhost:8080/"
        },
        "id": "IaDchFeMYTMN",
        "outputId": "4044132e-381a-442c-a556-e750043681ac"
      },
      "execution_count": 13,
      "outputs": [
        {
          "output_type": "stream",
          "name": "stdout",
          "text": [
            "Training examples:  58550\n",
            "Validation examples:  5683\n",
            "Testing examples:  5747\n"
          ]
        }
      ]
    },
    {
      "cell_type": "code",
      "source": [
        "#Shuffling the Training and Validation dataset\n",
        "\n",
        "trainArr = np.arange(len(trainSrc))\n",
        "np.random.shuffle(trainArr)\n",
        "validArr = np.arange(len(validSrc))\n",
        "np.random.shuffle(validArr)"
      ],
      "metadata": {
        "id": "BZTug8_bbrbW"
      },
      "execution_count": 14,
      "outputs": []
    },
    {
      "cell_type": "code",
      "source": [
        "sourceCharacters = set()\n",
        "targetCharacters = set()\n",
        "\n",
        "sourceWords=[]\n",
        "targetWords=[]\n",
        "\n",
        "valSrcWords=[]\n",
        "valTgtWords=[]\n",
        "\n",
        "for i in trainArr:\n",
        "  txt_tgt = 'B'+trainTgt[i]+'E'\n",
        "  txt_src = trainSrc[i]\n",
        "  for chr in txt_src:\n",
        "    if chr not in sourceCharacters:\n",
        "      sourceCharacters.add(chr)\n",
        "  for chr in txt_tgt:\n",
        "    if chr not in targetCharacters:\n",
        "      targetCharacters.add(chr)\n",
        "  sourceWords.append(txt_src)\n",
        "  targetWords.append(txt_tgt)\n",
        "\n",
        "\n",
        "for i in validArr:\n",
        "  txt_tgt = 'B'+validTgt[i]+'E'\n",
        "  txt_src = validSrc[i]\n",
        "  for chr in txt_src:\n",
        "    if chr not in sourceCharacters:\n",
        "      sourceCharacters.add(chr)\n",
        "  for chr in txt_tgt:\n",
        "    if chr not in targetCharacters:\n",
        "      targetCharacters.add(chr)\n",
        "  valSrcWords.append(txt_src)\n",
        "  valTgtWords.append(txt_tgt)\n",
        "\n",
        "sourceCharacters.add(\" \")\n",
        "targetCharacters.add(\" \")\n",
        "\n",
        "sourceCharacters=sorted(list(sourceCharacters))\n",
        "targetCharacters=sorted(list(targetCharacters))\n",
        "\n",
        "\n"
      ],
      "metadata": {
        "id": "R_1k-rPXZAgu"
      },
      "execution_count": 15,
      "outputs": []
    },
    {
      "cell_type": "code",
      "source": [
        "print(sourceCharacters)\n",
        "print(targetCharacters)"
      ],
      "metadata": {
        "colab": {
          "base_uri": "https://localhost:8080/"
        },
        "id": "3-3FOb8Nelf9",
        "outputId": "623842ba-54d5-4b7b-89e8-5ca9b434b74a"
      },
      "execution_count": 16,
      "outputs": [
        {
          "output_type": "stream",
          "name": "stdout",
          "text": [
            "[' ', 'a', 'b', 'c', 'd', 'e', 'f', 'g', 'h', 'i', 'j', 'k', 'l', 'm', 'n', 'o', 'p', 'q', 'r', 's', 't', 'u', 'v', 'w', 'x', 'y', 'z']\n",
            "[' ', 'B', 'E', 'ం', 'ః', 'అ', 'ఆ', 'ఇ', 'ఈ', 'ఉ', 'ఊ', 'ఋ', 'ఎ', 'ఏ', 'ఐ', 'ఒ', 'ఓ', 'ఔ', 'క', 'ఖ', 'గ', 'ఘ', 'చ', 'ఛ', 'జ', 'ఝ', 'ఞ', 'ట', 'ఠ', 'డ', 'ఢ', 'ణ', 'త', 'థ', 'ద', 'ధ', 'న', 'ప', 'ఫ', 'బ', 'భ', 'మ', 'య', 'ర', 'ఱ', 'ల', 'ళ', 'వ', 'శ', 'ష', 'స', 'హ', 'ా', 'ి', 'ీ', 'ు', 'ూ', 'ృ', 'ె', 'ే', 'ై', 'ొ', 'ో', 'ౌ', '్', '\\u200c']\n"
          ]
        }
      ]
    },
    {
      "cell_type": "code",
      "source": [],
      "metadata": {
        "id": "hM6_Rk9iPN0u"
      },
      "execution_count": 16,
      "outputs": []
    },
    {
      "cell_type": "code",
      "source": [
        "enc_tokens = len(sourceCharacters)\n",
        "dec_tokens = len(targetCharacters)\n",
        "\n",
        "max_enc_seq_length = max([len(txt) for txt in sourceWords])\n",
        "max_dec_seq_length = max([len(txt) for txt in targetWords])\n",
        "\n",
        "val_max_enc_seq_length = max([len(txt) for txt in valSrcWords])\n",
        "val_max_dec_seq_length = max([len(txt) for txt in valTgtWords])\n",
        "\n",
        "print(\"Number of samples:\", len(sourceWords))\n",
        "print(\"Number of unique input tokens:\", enc_tokens)\n",
        "print(\"Number of unique output tokens:\", dec_tokens)\n",
        "print(\"Max sequence length for inputs:\", max_enc_seq_length)\n",
        "print(\"Max sequence length for outputs:\", max_dec_seq_length)\n",
        "print(\"Max sequence length for val inputs:\", val_max_enc_seq_length)\n",
        "print(\"Max sequence length for val outputs:\", val_max_dec_seq_length)"
      ],
      "metadata": {
        "colab": {
          "base_uri": "https://localhost:8080/"
        },
        "id": "Ja_Ni3qSe0Uk",
        "outputId": "f5faebf7-ce35-43b4-f289-8ad4e6f83849"
      },
      "execution_count": 17,
      "outputs": [
        {
          "output_type": "stream",
          "name": "stdout",
          "text": [
            "Number of samples: 58550\n",
            "Number of unique input tokens: 27\n",
            "Number of unique output tokens: 66\n",
            "Max sequence length for inputs: 25\n",
            "Max sequence length for outputs: 22\n",
            "Max sequence length for val inputs: 21\n",
            "Max sequence length for val outputs: 21\n"
          ]
        }
      ]
    },
    {
      "cell_type": "code",
      "source": [
        "print(sourceWords[10:20])\n",
        "print(targetWords[10:20])"
      ],
      "metadata": {
        "colab": {
          "base_uri": "https://localhost:8080/"
        },
        "id": "K3XriLO4f00y",
        "outputId": "10466f52-26db-47ad-a17b-951c8f65fdcd"
      },
      "execution_count": 18,
      "outputs": [
        {
          "output_type": "stream",
          "name": "stdout",
          "text": [
            "['gudiki', 'premiier', 'irukkumdi', 'avagatam', 'rassel', 'haristundi', 'puttagodugula', 'amdimchaadu', 'paarliaament', 'krushnaarao']\n",
            "['BగుడికిE', 'Bప్రీమియర్E', 'Bఇరుక్కుందిE', 'BఅవగతంE', 'Bరస్సెల్E', 'Bహరిస్తుందిE', 'Bపుట్టగొడుగులE', 'BఅందించాడుE', 'Bపార్లమెంట్E', 'Bకృష్ణారావుE']\n"
          ]
        }
      ]
    },
    {
      "cell_type": "code",
      "source": [
        "srcIndex = dict([(char, i) for i, char in enumerate(sourceCharacters)])\n",
        "tgtIndex = dict([(char, i) for i, char in enumerate(targetCharacters)])\n",
        "\n",
        "print(srcIndex)\n",
        "print(tgtIndex)"
      ],
      "metadata": {
        "colab": {
          "base_uri": "https://localhost:8080/"
        },
        "id": "2tiSW9frf_wk",
        "outputId": "50906de4-afb6-4020-e796-50d5b59eb6a8"
      },
      "execution_count": 19,
      "outputs": [
        {
          "output_type": "stream",
          "name": "stdout",
          "text": [
            "{' ': 0, 'a': 1, 'b': 2, 'c': 3, 'd': 4, 'e': 5, 'f': 6, 'g': 7, 'h': 8, 'i': 9, 'j': 10, 'k': 11, 'l': 12, 'm': 13, 'n': 14, 'o': 15, 'p': 16, 'q': 17, 'r': 18, 's': 19, 't': 20, 'u': 21, 'v': 22, 'w': 23, 'x': 24, 'y': 25, 'z': 26}\n",
            "{' ': 0, 'B': 1, 'E': 2, 'ం': 3, 'ః': 4, 'అ': 5, 'ఆ': 6, 'ఇ': 7, 'ఈ': 8, 'ఉ': 9, 'ఊ': 10, 'ఋ': 11, 'ఎ': 12, 'ఏ': 13, 'ఐ': 14, 'ఒ': 15, 'ఓ': 16, 'ఔ': 17, 'క': 18, 'ఖ': 19, 'గ': 20, 'ఘ': 21, 'చ': 22, 'ఛ': 23, 'జ': 24, 'ఝ': 25, 'ఞ': 26, 'ట': 27, 'ఠ': 28, 'డ': 29, 'ఢ': 30, 'ణ': 31, 'త': 32, 'థ': 33, 'ద': 34, 'ధ': 35, 'న': 36, 'ప': 37, 'ఫ': 38, 'బ': 39, 'భ': 40, 'మ': 41, 'య': 42, 'ర': 43, 'ఱ': 44, 'ల': 45, 'ళ': 46, 'వ': 47, 'శ': 48, 'ష': 49, 'స': 50, 'హ': 51, 'ా': 52, 'ి': 53, 'ీ': 54, 'ు': 55, 'ూ': 56, 'ృ': 57, 'ె': 58, 'ే': 59, 'ై': 60, 'ొ': 61, 'ో': 62, 'ౌ': 63, '్': 64, '\\u200c': 65}\n"
          ]
        }
      ]
    },
    {
      "cell_type": "code",
      "source": [
        "revSrcIndex = dict((i, char) for  char,i in srcIndex.items())\n",
        "revTgtIndex = dict((i, char) for  char,i in tgtIndex.items())\n",
        "\n",
        "print(revSrcIndex)\n",
        "print(revTgtIndex)"
      ],
      "metadata": {
        "colab": {
          "base_uri": "https://localhost:8080/"
        },
        "id": "b8ok6R6XqD4Z",
        "outputId": "ac8145da-240e-42a2-8aaf-6917b371d830"
      },
      "execution_count": 20,
      "outputs": [
        {
          "output_type": "stream",
          "name": "stdout",
          "text": [
            "{0: ' ', 1: 'a', 2: 'b', 3: 'c', 4: 'd', 5: 'e', 6: 'f', 7: 'g', 8: 'h', 9: 'i', 10: 'j', 11: 'k', 12: 'l', 13: 'm', 14: 'n', 15: 'o', 16: 'p', 17: 'q', 18: 'r', 19: 's', 20: 't', 21: 'u', 22: 'v', 23: 'w', 24: 'x', 25: 'y', 26: 'z'}\n",
            "{0: ' ', 1: 'B', 2: 'E', 3: 'ం', 4: 'ః', 5: 'అ', 6: 'ఆ', 7: 'ఇ', 8: 'ఈ', 9: 'ఉ', 10: 'ఊ', 11: 'ఋ', 12: 'ఎ', 13: 'ఏ', 14: 'ఐ', 15: 'ఒ', 16: 'ఓ', 17: 'ఔ', 18: 'క', 19: 'ఖ', 20: 'గ', 21: 'ఘ', 22: 'చ', 23: 'ఛ', 24: 'జ', 25: 'ఝ', 26: 'ఞ', 27: 'ట', 28: 'ఠ', 29: 'డ', 30: 'ఢ', 31: 'ణ', 32: 'త', 33: 'థ', 34: 'ద', 35: 'ధ', 36: 'న', 37: 'ప', 38: 'ఫ', 39: 'బ', 40: 'భ', 41: 'మ', 42: 'య', 43: 'ర', 44: 'ఱ', 45: 'ల', 46: 'ళ', 47: 'వ', 48: 'శ', 49: 'ష', 50: 'స', 51: 'హ', 52: 'ా', 53: 'ి', 54: 'ీ', 55: 'ు', 56: 'ూ', 57: 'ృ', 58: 'ె', 59: 'ే', 60: 'ై', 61: 'ొ', 62: 'ో', 63: 'ౌ', 64: '్', 65: '\\u200c'}\n"
          ]
        }
      ]
    },
    {
      "cell_type": "code",
      "source": [
        "encSrc = np.zeros((len(sourceWords), max_enc_seq_length,enc_tokens), dtype=\"float32\")\n",
        "decTgt = np.zeros((len(sourceWords), max_dec_seq_length, dec_tokens), dtype=\"float32\")\n",
        "valEncSrc = np.zeros((len(valSrcWords), max_enc_seq_length,enc_tokens), dtype=\"float32\")\n",
        "valDecTgt = np.zeros((len(valSrcWords), max_dec_seq_length, dec_tokens), dtype=\"float32\")\n",
        "\n",
        "for i, (txt_ip, txt_tgt) in enumerate(zip(sourceWords, targetWords)):\n",
        "    for t, char in enumerate(txt_ip):\n",
        "        encSrc[i, t ,srcIndex[char]] = 1.0\n",
        "    encSrc[i, t + 1 :,srcIndex[\" \"]] = 1.0\n",
        "    for t, char in enumerate(txt_tgt):\n",
        "          decTgt[i, t, tgtIndex[char]] = 1.0\n",
        "    decTgt[i, t:+1, tgtIndex[\" \"]] = 1.0\n",
        "\n",
        "for i, (txt_ip, txt_tgt) in enumerate(zip(valSrcWords, valTgtWords)):\n",
        "    for t, char in enumerate(txt_ip):\n",
        "        valEncSrc[i, t,srcIndex[char]] = 1.0\n",
        "    valEncSrc[i, t + 1 :,srcIndex[\" \"]] = 1.0\n",
        "    for t, char in enumerate(txt_tgt):\n",
        "        valDecTgt[i, t, tgtIndex[char]] = 1.0\n",
        "    valDecTgt[i, t+1:, tgtIndex[\" \"]] = 1.0\n",
        "\n"
      ],
      "metadata": {
        "id": "DtFHNda_gYyT"
      },
      "execution_count": 21,
      "outputs": []
    },
    {
      "cell_type": "code",
      "source": [
        "class Attention(tf.keras.layers.Layer):\n",
        "  def __init__(self, units):\n",
        "    super(Attention, self).__init__()\n",
        "    self.W1 = tf.keras.layers.Dense(units)\n",
        "    self.W2 = tf.keras.layers.Dense(units)\n",
        "    self.V = tf.keras.layers.Dense(1)\n",
        "\n",
        "  def call(self, query, value):\n",
        "\n",
        "    query_with_time_axis = tf.expand_dims(query, 1)\n",
        "\n",
        "    score = self.V(tf.nn.tanh(self.W1(query_with_time_axis) + self.W2(value)))\n",
        "\n",
        "    aw = tf.nn.softmax(score, axis=1)\n",
        "    vc = aw * value\n",
        "    vc = tf.reduce_sum(vc, axis=1)\n",
        "\n",
        "    return vc, aw\n",
        "\n"
      ],
      "metadata": {
        "id": "aQE1aaL4q9JG"
      },
      "execution_count": 22,
      "outputs": []
    },
    {
      "cell_type": "code",
      "source": [
        "class Seq_to_Seq_with_attention(object):\n",
        "\n",
        "  def __init__(self, cell = 'RNN', hidden_layer=32, learning_rate= 1e-3, drop_out = 0.3,\n",
        "               epochs = 10, batch_size = 32, attention = 'bahdanau'):\n",
        "\n",
        "    self.cell = cell\n",
        "    self.hidden_layer = hidden_layer\n",
        "    self.learning_rate = learning_rate\n",
        "    self.drop_out = drop_out\n",
        "    self.epochs = epochs\n",
        "    self.batch_size = batch_size\n",
        "    self.attention = attention\n",
        "\n",
        "  def fit_model(self, ip_encd, tgt_decd):\n",
        "\n",
        "    ip_encds = Input(shape=(max_enc_seq_length, enc_tokens), name='enc_inputs')\n",
        "\n",
        "    if self.cell == 'LSTM':\n",
        "\n",
        "      enc_lstm = LSTM(self.hidden_layer,return_sequences=True, return_state=True, dropout = self.drop_out, name='enc_lstm')\n",
        "      enc_ops, enc_hs, enc_cs = enc_lstm(ip_encds)\n",
        "      states_enc = [enc_hs, enc_cs]\n",
        "\n",
        "    elif self.cell == 'RNN':\n",
        "\n",
        "      enc_rnn = SimpleRNN(self.hidden_layer,return_sequences=True, return_state=True, dropout = self.drop_out, name='enc_rnn')\n",
        "      enc_ops, enc_hs = enc_rnn(ip_encds)\n",
        "      states_enc = [enc_hs]\n",
        "\n",
        "    elif self.cell == 'GRU':\n",
        "\n",
        "      enc_gru = GRU(self.hidden_layer,return_sequences=True, return_state=True, dropout = self.drop_out, name='enc_gru')\n",
        "      enc_ops, enc_hs = enc_gru(ip_encds)\n",
        "      states_enc = [enc_hs]\n",
        "\n",
        "\n",
        "\n",
        "    # Attention Layer\n",
        "    if self.attention == 'bahdanau':\n",
        "      attention= Attention(self.hidden_layer)\n",
        "\n",
        "    # dec Layers\n",
        "    inps_deco = Input(shape=(1, (dec_tokens + self.hidden_layer)),name='dec_inputs')\n",
        "\n",
        "    if self.cell == 'LSTM':\n",
        "\n",
        "      dec_lstm = LSTM(self.hidden_layer, dropout = self.drop_out, return_state=True, name='dec_lstm')\n",
        "\n",
        "    elif self.cell == 'GRU':\n",
        "\n",
        "      dec_gru = GRU(self.hidden_layer, dropout = self.drop_out, return_state=True, name='dec_gru')\n",
        "\n",
        "    elif self.cell == 'RNN':\n",
        "\n",
        "      dec_rnn = SimpleRNN(self.hidden_layer, dropout = self.drop_out, return_state=True, name='dec_rnn')\n",
        "\n",
        "\n",
        "    dec_dense = Dense(dec_tokens, activation='softmax',  name='dec_dense')\n",
        "    all_ops = []\n",
        "\n",
        "    ips = np.zeros((self.batch_size, 1, dec_tokens))\n",
        "    ips[:, 0, 0] = 1\n",
        "\n",
        "    dec_ops = enc_hs\n",
        "    states = states_enc\n",
        "\n",
        "    for _ in range(max_dec_seq_length):\n",
        "\n",
        "      vc, aw = attention(dec_ops, enc_ops)\n",
        "      vc = tf.expand_dims(vc, 1)\n",
        "\n",
        "      ips = tf.concat([vc, ips], axis=-1)\n",
        "\n",
        "      if self.cell == 'LSTM':\n",
        "\n",
        "        dec_ops, hs, cs = dec_lstm(ips, initial_state=states)\n",
        "\n",
        "      if self.cell == 'GRU':\n",
        "\n",
        "        dec_ops, hs = dec_gru(ips, initial_state=states)\n",
        "\n",
        "      if self.cell == 'RNN':\n",
        "\n",
        "        dec_ops, hs = dec_rnn(ips, initial_state=states)\n",
        "\n",
        "      ops = dec_dense(dec_ops)\n",
        "      ops = tf.expand_dims(ops, 1)\n",
        "      all_ops.append(ops)\n",
        "      ips = ops\n",
        "      if self.cell == 'LSTM':\n",
        "\n",
        "        states = [hs, cs]\n",
        "\n",
        "      if self.cell == 'GRU' or self.cell == 'RNN':\n",
        "\n",
        "        states = [hs]\n",
        "\n",
        "\n",
        "    dec_ops = Lambda(lambda x: K.concatenate(x, axis=1))(all_ops)\n",
        "    model = Model(ip_encds, dec_ops, name='model_enc_dec')\n",
        "\n",
        "    optimizer = Adam(lr=self.learning_rate, beta_1=0.9, beta_2=0.999)\n",
        "    model.compile(optimizer=optimizer, loss='categorical_crossentropy', metrics=['accuracy'])\n",
        "\n",
        "    model.fit(ip_encd, tgt_decd,\n",
        "              batch_size=self.batch_size,\n",
        "              epochs=self.epochs,\n",
        "              #callbacks = [WandbCallback()]\n",
        "              )\n",
        "\n",
        "    if self.cell == 'LSTM':\n",
        "      return enc_lstm,attention,dec_lstm,dec_dense\n",
        "    if self.cell == 'GRU':\n",
        "      return enc_gru,attention,dec_gru,dec_dense\n",
        "    if self.cell == 'RNN':\n",
        "      return enc_rnn,attention,dec_rnn,dec_dense\n",
        "\n",
        "  def evaluate(self,seq_in):\n",
        "    attention_plot = np.zeros((max_dec_seq_length, max_enc_seq_length))\n",
        "\n",
        "    sequence = seq_in\n",
        "\n",
        "    enc_inputs=array(sequence).reshape(1,max_enc_seq_length,enc_tokens)\n",
        "\n",
        "    enc_inputs = tf.convert_to_tensor(enc_inputs,dtype=tf.float32)\n",
        "\n",
        "    if self.cell == 'LSTM':\n",
        "\n",
        "      enc_outputs, enc_state_h, enc_state_c = encoder(enc_inputs)\n",
        "      enc_states = [enc_state_h, enc_state_c]\n",
        "    elif self.cell == 'GRU':\n",
        "      enc_outputs, enc_state_h = encoder(enc_inputs)\n",
        "      enc_states = [enc_state_h]\n",
        "\n",
        "    elif self.cell == 'RNN':\n",
        "\n",
        "      enc_outputs, enc_state_h = encoder(enc_inputs)\n",
        "      enc_states = [enc_state_h]\n",
        "\n",
        "    all_outputs = []\n",
        "\n",
        "    dec_input_data = np.zeros((1, 1, dec_tokens))\n",
        "    dec_input_data[:, 0, 0] = 1\n",
        "\n",
        "    inputs = dec_input_data\n",
        "    dec_outputs = enc_state_h\n",
        "    states = enc_states\n",
        "\n",
        "    weigh_atten =[]\n",
        "    for t in range(max_dec_seq_length):\n",
        "\n",
        "      # pay attention\n",
        "      context_vector, attention_weights=attention(dec_outputs, enc_outputs)\n",
        "\n",
        "      # storing the attention weights to plot later on\n",
        "      attention_weights = tf.reshape(attention_weights, (-1, ))\n",
        "      weigh_atten.append(attention_weights)\n",
        "\n",
        "      attention_plot[t] = attention_weights.numpy()\n",
        "\n",
        "      dec_outputs=tf.expand_dims(dec_outputs, 1)\n",
        "\n",
        "      context_vector = tf.expand_dims(context_vector, 1)\n",
        "      inputs = tf.concat([context_vector, inputs], axis=-1)\n",
        "\n",
        "      if self.cell == 'LSTM':\n",
        "        dec_outputs, state_h, state_c = decoder(inputs, initial_state=states)\n",
        "      if self.cell == 'GRU':\n",
        "        dec_outputs, state_h = decoder(inputs, initial_state=states)\n",
        "      if self.cell == 'RNN':\n",
        "        dec_outputs, state_h = decoder(inputs, initial_state=states)\n",
        "\n",
        "      outputs = decoder_dense(dec_outputs)\n",
        "      # Store the current prediction (we will concatenate all predictions later)\n",
        "      outputs = tf.expand_dims(outputs, 1)\n",
        "      all_outputs.append(outputs)\n",
        "      inputs = outputs\n",
        "      if self.cell == 'LSTM':\n",
        "        states = [state_h, state_c]\n",
        "      if self.cell == 'GRU' or self.cell == 'RNN':\n",
        "        states = [state_h]\n",
        "\n",
        "    dec_outputs = Lambda(lambda x: K.concatenate(x, axis=1))(all_outputs)\n",
        "    seq_outs = dec_outputs[0]\n",
        "    seq_out = tf.argmax(seq_outs, axis=1)\n",
        "    seq_out = seq_out.numpy()\n",
        "    seq_in = tf.argmax(seq_in, axis = 1)\n",
        "    seq_in = seq_in.numpy()\n",
        "    list(filter(lambda num: num != 0, seq_in))\n",
        "    list(filter(lambda num: num != 0, seq_out))\n",
        "\n",
        "    return seq_in, seq_out, attention_plot, weigh_atten\n",
        "\n",
        "  def plot_attention(self,attention, sequence, predicted_sequence, idx,fig):\n",
        "\n",
        "    ax = fig.add_subplot(4, 3, idx)\n",
        "    ax.matshow(attention, cmap='viridis')\n",
        "\n",
        "    fontdict = {'fontsize': 16}\n",
        "    seq = ''\n",
        "    for i in range(len(sequence)):\n",
        "      seq = seq + revSrcIndex[sequence[i]]\n",
        "\n",
        "    pred = ''\n",
        "    for i in range(len(predicted_sequence)):\n",
        "      pred = pred + revTgtIndex[predicted_sequence[i]]\n",
        "    true_pred =''\n",
        "    for i in pred:\n",
        "      if i=='E' or i=='B':\n",
        "        continue\n",
        "      true_pred=true_pred+i\n",
        "\n",
        "    print(seq + \" : \" + true_pred)\n",
        "\n",
        "    ax.set_xticklabels(seq, fontdict=fontdict)\n",
        "    ax.set_yticklabels(pred, fontdict=fontdict,fontproperties =telugu_font)\n",
        "\n",
        "    ax.xaxis.set_major_locator(ticker.MultipleLocator(1))\n",
        "    ax.yaxis.set_major_locator(ticker.MultipleLocator(1))\n",
        "\n",
        "\n",
        "  def translate(self,seq_in, idx,fig):\n",
        "    seq_in, seq_out, attention_plot, weigh_atten = self.evaluate(seq_in)\n",
        "\n",
        "    a = [0]\n",
        "    for i in range(len(seq_in)):\n",
        "      if seq_in[i] != 0:\n",
        "        a.append(seq_in[i])\n",
        "\n",
        "    b = []\n",
        "    for i in range(len(seq_out)):\n",
        "      if seq_out[i] != 0:\n",
        "        b.append(seq_out[i])\n",
        "\n",
        "    b = b[:len(b)-1]\n",
        "\n",
        "\n",
        "    attention_plot = attention_plot[:len(b), :len(a)]\n",
        "    self.plot_attention(attention_plot, a, b, idx,fig)\n",
        "\n",
        "    return weigh_atten\n",
        "\n",
        "  def attention_plot(self,val_input):\n",
        "    aw = []\n",
        "    fig = plt.figure(figsize=(16,18))\n",
        "    for i in range(1,13,1):\n",
        "      seq_in = val_input[i*9]\n",
        "      weigh_atten = self.translate(seq_in,i,fig)\n",
        "      aw.append(weigh_atten)\n",
        "    plt.show()\n",
        "    return aw"
      ],
      "metadata": {
        "id": "U311w8NqhYbq"
      },
      "execution_count": 33,
      "outputs": []
    },
    {
      "cell_type": "markdown",
      "source": [],
      "metadata": {
        "id": "lPKTNq6HHt98"
      }
    },
    {
      "cell_type": "code",
      "source": [
        "rnn_model = Seq_to_Seq_with_attention(cell = 'LSTM', hidden_layer=256, learning_rate= 1e-3,\n",
        "                        drop_out=0.2,epochs = 7, batch_size = 128, attention = 'bahdanau')"
      ],
      "metadata": {
        "id": "-KsvKIgvh4Su"
      },
      "execution_count": 24,
      "outputs": []
    },
    {
      "cell_type": "code",
      "source": [
        "encoder,attention,decoder,decoder_dense = rnn_model.fit_model(encSrc[:58496],decTgt[:58496])\n"
      ],
      "metadata": {
        "colab": {
          "base_uri": "https://localhost:8080/"
        },
        "id": "arCwlmy_h8sP",
        "outputId": "84fe382b-083b-4083-fe69-1c101187fd21"
      },
      "execution_count": 25,
      "outputs": [
        {
          "output_type": "stream",
          "name": "stderr",
          "text": [
            "WARNING:absl:`lr` is deprecated in Keras optimizer, please use `learning_rate` or use the legacy optimizer, e.g.,tf.keras.optimizers.legacy.Adam.\n"
          ]
        },
        {
          "output_type": "stream",
          "name": "stdout",
          "text": [
            "Epoch 1/7\n",
            "457/457 [==============================] - 962s 2s/step - loss: 1.1676 - accuracy: 0.1357\n",
            "Epoch 2/7\n",
            "457/457 [==============================] - 949s 2s/step - loss: 0.8514 - accuracy: 0.2011\n",
            "Epoch 3/7\n",
            "457/457 [==============================] - 947s 2s/step - loss: 0.6704 - accuracy: 0.2497\n",
            "Epoch 4/7\n",
            "457/457 [==============================] - 949s 2s/step - loss: 0.5861 - accuracy: 0.2744\n",
            "Epoch 5/7\n",
            "457/457 [==============================] - 941s 2s/step - loss: 0.5343 - accuracy: 0.2911\n",
            "Epoch 6/7\n",
            "457/457 [==============================] - 941s 2s/step - loss: 0.4976 - accuracy: 0.3027\n",
            "Epoch 7/7\n",
            "457/457 [==============================] - 942s 2s/step - loss: 0.4744 - accuracy: 0.3091\n"
          ]
        }
      ]
    },
    {
      "cell_type": "code",
      "source": [
        "print(valEncSrc[0].shape)"
      ],
      "metadata": {
        "id": "KdxENAGWLuBA",
        "colab": {
          "base_uri": "https://localhost:8080/"
        },
        "outputId": "e2c3ef09-ace9-418d-b2f2-a4ad7bb3db0e"
      },
      "execution_count": 26,
      "outputs": [
        {
          "output_type": "stream",
          "name": "stdout",
          "text": [
            "(25, 27)\n"
          ]
        }
      ]
    },
    {
      "cell_type": "code",
      "source": [
        "w_a = rnn_model.attention_plot(valEncSrc[200:])"
      ],
      "metadata": {
        "id": "R4dOed6FL35A",
        "colab": {
          "base_uri": "https://localhost:8080/",
          "height": 1000
        },
        "outputId": "d96f7ef2-3090-4651-9b60-0984d53dfce4"
      },
      "execution_count": 36,
      "outputs": [
        {
          "output_type": "stream",
          "name": "stdout",
          "text": [
            " yasidlu : BయసిిడలుEEEEEEEEEEEEE\n"
          ]
        },
        {
          "output_type": "stream",
          "name": "stderr",
          "text": [
            "<ipython-input-23-8c4759a1290d>:210: UserWarning: FixedFormatter should only be used together with FixedLocator\n",
            "  ax.set_xticklabels(seq, fontdict=fontdict)\n",
            "<ipython-input-23-8c4759a1290d>:211: UserWarning: FixedFormatter should only be used together with FixedLocator\n",
            "  ax.set_yticklabels(pred, fontdict=fontdict,fontproperties =telugu_font)\n"
          ]
        },
        {
          "output_type": "stream",
          "name": "stdout",
          "text": [
            " sanghamunaku : BసంఘమునకుEEEEEEEEEEEE\n",
            " nirmoolinchadam : Bనిర్మోనించంEEEEEEEEE\n",
            " thuragaa : BతురగాEEEEEEEEEEEEEEE\n",
            " mahanubhavudi : BమహనుభాుుEEEEEEEEEEEE\n",
            " praadhamika : Bప్రాధంికEEEEEEEEEEEE\n",
            " kaaryanirvahaka : Bకార్యనిర్వాEEEEEEEEE\n",
            " lebul : Bలెబుల్EEEEEEEEEEEEEE\n",
            " dasaabdamloo : Bదశాబ్ధంలోEEEEEEEEEEE\n",
            " kiranhaalanu : BకిరణాలనుEEEEEEEEEEEE\n",
            " pikkalanu : Bపిక్లలుEEEEEEEEEEEEE\n",
            " suchistunnaru : Bసూచిస్తున్నారుEEEEEE\n"
          ]
        },
        {
          "output_type": "error",
          "ename": "ValueError",
          "evalue": "ignored",
          "traceback": [
            "\u001b[0;31m---------------------------------------------------------------------------\u001b[0m",
            "\u001b[0;31mValueError\u001b[0m                                Traceback (most recent call last)",
            "\u001b[0;32m<ipython-input-36-579dfb6b643c>\u001b[0m in \u001b[0;36m<cell line: 1>\u001b[0;34m()\u001b[0m\n\u001b[0;32m----> 1\u001b[0;31m \u001b[0mw_a\u001b[0m \u001b[0;34m=\u001b[0m \u001b[0mrnn_model\u001b[0m\u001b[0;34m.\u001b[0m\u001b[0mattention_plot\u001b[0m\u001b[0;34m(\u001b[0m\u001b[0mvalEncSrc\u001b[0m\u001b[0;34m[\u001b[0m\u001b[0;36m200\u001b[0m\u001b[0;34m:\u001b[0m\u001b[0;34m]\u001b[0m\u001b[0;34m)\u001b[0m\u001b[0;34m\u001b[0m\u001b[0;34m\u001b[0m\u001b[0m\n\u001b[0m",
            "\u001b[0;32m<ipython-input-23-8c4759a1290d>\u001b[0m in \u001b[0;36mattention_plot\u001b[0;34m(self, val_input)\u001b[0m\n\u001b[1;32m    241\u001b[0m     \u001b[0;32mfor\u001b[0m \u001b[0mi\u001b[0m \u001b[0;32min\u001b[0m \u001b[0mrange\u001b[0m\u001b[0;34m(\u001b[0m\u001b[0;36m1\u001b[0m\u001b[0;34m,\u001b[0m\u001b[0;36m25\u001b[0m\u001b[0;34m,\u001b[0m\u001b[0;36m1\u001b[0m\u001b[0;34m)\u001b[0m\u001b[0;34m:\u001b[0m\u001b[0;34m\u001b[0m\u001b[0;34m\u001b[0m\u001b[0m\n\u001b[1;32m    242\u001b[0m       \u001b[0mseq_in\u001b[0m \u001b[0;34m=\u001b[0m \u001b[0mval_input\u001b[0m\u001b[0;34m[\u001b[0m\u001b[0mi\u001b[0m\u001b[0;34m*\u001b[0m\u001b[0;36m9\u001b[0m\u001b[0;34m]\u001b[0m\u001b[0;34m\u001b[0m\u001b[0;34m\u001b[0m\u001b[0m\n\u001b[0;32m--> 243\u001b[0;31m       \u001b[0mweigh_atten\u001b[0m \u001b[0;34m=\u001b[0m \u001b[0mself\u001b[0m\u001b[0;34m.\u001b[0m\u001b[0mtranslate\u001b[0m\u001b[0;34m(\u001b[0m\u001b[0mseq_in\u001b[0m\u001b[0;34m,\u001b[0m\u001b[0mi\u001b[0m\u001b[0;34m,\u001b[0m\u001b[0mfig\u001b[0m\u001b[0;34m)\u001b[0m\u001b[0;34m\u001b[0m\u001b[0;34m\u001b[0m\u001b[0m\n\u001b[0m\u001b[1;32m    244\u001b[0m       \u001b[0maw\u001b[0m\u001b[0;34m.\u001b[0m\u001b[0mappend\u001b[0m\u001b[0;34m(\u001b[0m\u001b[0mweigh_atten\u001b[0m\u001b[0;34m)\u001b[0m\u001b[0;34m\u001b[0m\u001b[0;34m\u001b[0m\u001b[0m\n\u001b[1;32m    245\u001b[0m     \u001b[0mplt\u001b[0m\u001b[0;34m.\u001b[0m\u001b[0mshow\u001b[0m\u001b[0;34m(\u001b[0m\u001b[0;34m)\u001b[0m\u001b[0;34m\u001b[0m\u001b[0;34m\u001b[0m\u001b[0m\n",
            "\u001b[0;32m<ipython-input-23-8c4759a1290d>\u001b[0m in \u001b[0;36mtranslate\u001b[0;34m(self, seq_in, idx, fig)\u001b[0m\n\u001b[1;32m    232\u001b[0m \u001b[0;34m\u001b[0m\u001b[0m\n\u001b[1;32m    233\u001b[0m     \u001b[0mattention_plot\u001b[0m \u001b[0;34m=\u001b[0m \u001b[0mattention_plot\u001b[0m\u001b[0;34m[\u001b[0m\u001b[0;34m:\u001b[0m\u001b[0mlen\u001b[0m\u001b[0;34m(\u001b[0m\u001b[0mb\u001b[0m\u001b[0;34m)\u001b[0m\u001b[0;34m,\u001b[0m \u001b[0;34m:\u001b[0m\u001b[0mlen\u001b[0m\u001b[0;34m(\u001b[0m\u001b[0ma\u001b[0m\u001b[0;34m)\u001b[0m\u001b[0;34m]\u001b[0m\u001b[0;34m\u001b[0m\u001b[0;34m\u001b[0m\u001b[0m\n\u001b[0;32m--> 234\u001b[0;31m     \u001b[0mself\u001b[0m\u001b[0;34m.\u001b[0m\u001b[0mplot_attention\u001b[0m\u001b[0;34m(\u001b[0m\u001b[0mattention_plot\u001b[0m\u001b[0;34m,\u001b[0m \u001b[0ma\u001b[0m\u001b[0;34m,\u001b[0m \u001b[0mb\u001b[0m\u001b[0;34m,\u001b[0m \u001b[0midx\u001b[0m\u001b[0;34m,\u001b[0m\u001b[0mfig\u001b[0m\u001b[0;34m)\u001b[0m\u001b[0;34m\u001b[0m\u001b[0;34m\u001b[0m\u001b[0m\n\u001b[0m\u001b[1;32m    235\u001b[0m \u001b[0;34m\u001b[0m\u001b[0m\n\u001b[1;32m    236\u001b[0m     \u001b[0;32mreturn\u001b[0m \u001b[0mweigh_atten\u001b[0m\u001b[0;34m\u001b[0m\u001b[0;34m\u001b[0m\u001b[0m\n",
            "\u001b[0;32m<ipython-input-23-8c4759a1290d>\u001b[0m in \u001b[0;36mplot_attention\u001b[0;34m(self, attention, sequence, predicted_sequence, idx, fig)\u001b[0m\n\u001b[1;32m    194\u001b[0m   \u001b[0;32mdef\u001b[0m \u001b[0mplot_attention\u001b[0m\u001b[0;34m(\u001b[0m\u001b[0mself\u001b[0m\u001b[0;34m,\u001b[0m\u001b[0mattention\u001b[0m\u001b[0;34m,\u001b[0m \u001b[0msequence\u001b[0m\u001b[0;34m,\u001b[0m \u001b[0mpredicted_sequence\u001b[0m\u001b[0;34m,\u001b[0m \u001b[0midx\u001b[0m\u001b[0;34m,\u001b[0m\u001b[0mfig\u001b[0m\u001b[0;34m)\u001b[0m\u001b[0;34m:\u001b[0m\u001b[0;34m\u001b[0m\u001b[0;34m\u001b[0m\u001b[0m\n\u001b[1;32m    195\u001b[0m \u001b[0;34m\u001b[0m\u001b[0m\n\u001b[0;32m--> 196\u001b[0;31m     \u001b[0max\u001b[0m \u001b[0;34m=\u001b[0m \u001b[0mfig\u001b[0m\u001b[0;34m.\u001b[0m\u001b[0madd_subplot\u001b[0m\u001b[0;34m(\u001b[0m\u001b[0;36m4\u001b[0m\u001b[0;34m,\u001b[0m \u001b[0;36m3\u001b[0m\u001b[0;34m,\u001b[0m \u001b[0midx\u001b[0m\u001b[0;34m)\u001b[0m\u001b[0;34m\u001b[0m\u001b[0;34m\u001b[0m\u001b[0m\n\u001b[0m\u001b[1;32m    197\u001b[0m     \u001b[0max\u001b[0m\u001b[0;34m.\u001b[0m\u001b[0mmatshow\u001b[0m\u001b[0;34m(\u001b[0m\u001b[0mattention\u001b[0m\u001b[0;34m,\u001b[0m \u001b[0mcmap\u001b[0m\u001b[0;34m=\u001b[0m\u001b[0;34m'viridis'\u001b[0m\u001b[0;34m)\u001b[0m\u001b[0;34m\u001b[0m\u001b[0;34m\u001b[0m\u001b[0m\n\u001b[1;32m    198\u001b[0m \u001b[0;34m\u001b[0m\u001b[0m\n",
            "\u001b[0;32m/usr/local/lib/python3.10/dist-packages/matplotlib/figure.py\u001b[0m in \u001b[0;36madd_subplot\u001b[0;34m(self, *args, **kwargs)\u001b[0m\n\u001b[1;32m    755\u001b[0m             projection_class, pkw = self._process_projection_requirements(\n\u001b[1;32m    756\u001b[0m                 *args, **kwargs)\n\u001b[0;32m--> 757\u001b[0;31m             \u001b[0max\u001b[0m \u001b[0;34m=\u001b[0m \u001b[0mprojection_class\u001b[0m\u001b[0;34m(\u001b[0m\u001b[0mself\u001b[0m\u001b[0;34m,\u001b[0m \u001b[0;34m*\u001b[0m\u001b[0margs\u001b[0m\u001b[0;34m,\u001b[0m \u001b[0;34m**\u001b[0m\u001b[0mpkw\u001b[0m\u001b[0;34m)\u001b[0m\u001b[0;34m\u001b[0m\u001b[0;34m\u001b[0m\u001b[0m\n\u001b[0m\u001b[1;32m    758\u001b[0m             \u001b[0mkey\u001b[0m \u001b[0;34m=\u001b[0m \u001b[0;34m(\u001b[0m\u001b[0mprojection_class\u001b[0m\u001b[0;34m,\u001b[0m \u001b[0mpkw\u001b[0m\u001b[0;34m)\u001b[0m\u001b[0;34m\u001b[0m\u001b[0;34m\u001b[0m\u001b[0m\n\u001b[1;32m    759\u001b[0m         \u001b[0;32mreturn\u001b[0m \u001b[0mself\u001b[0m\u001b[0;34m.\u001b[0m\u001b[0m_add_axes_internal\u001b[0m\u001b[0;34m(\u001b[0m\u001b[0max\u001b[0m\u001b[0;34m,\u001b[0m \u001b[0mkey\u001b[0m\u001b[0;34m)\u001b[0m\u001b[0;34m\u001b[0m\u001b[0;34m\u001b[0m\u001b[0m\n",
            "\u001b[0;32m/usr/local/lib/python3.10/dist-packages/matplotlib/axes/_base.py\u001b[0m in \u001b[0;36m__init__\u001b[0;34m(self, fig, facecolor, frameon, sharex, sharey, label, xscale, yscale, box_aspect, *args, **kwargs)\u001b[0m\n\u001b[1;32m    642\u001b[0m         \u001b[0;32melse\u001b[0m\u001b[0;34m:\u001b[0m\u001b[0;34m\u001b[0m\u001b[0;34m\u001b[0m\u001b[0m\n\u001b[1;32m    643\u001b[0m             \u001b[0mself\u001b[0m\u001b[0;34m.\u001b[0m\u001b[0m_position\u001b[0m \u001b[0;34m=\u001b[0m \u001b[0mself\u001b[0m\u001b[0;34m.\u001b[0m\u001b[0m_originalPosition\u001b[0m \u001b[0;34m=\u001b[0m \u001b[0mmtransforms\u001b[0m\u001b[0;34m.\u001b[0m\u001b[0mBbox\u001b[0m\u001b[0;34m.\u001b[0m\u001b[0munit\u001b[0m\u001b[0;34m(\u001b[0m\u001b[0;34m)\u001b[0m\u001b[0;34m\u001b[0m\u001b[0;34m\u001b[0m\u001b[0m\n\u001b[0;32m--> 644\u001b[0;31m             \u001b[0msubplotspec\u001b[0m \u001b[0;34m=\u001b[0m \u001b[0mSubplotSpec\u001b[0m\u001b[0;34m.\u001b[0m\u001b[0m_from_subplot_args\u001b[0m\u001b[0;34m(\u001b[0m\u001b[0mfig\u001b[0m\u001b[0;34m,\u001b[0m \u001b[0margs\u001b[0m\u001b[0;34m)\u001b[0m\u001b[0;34m\u001b[0m\u001b[0;34m\u001b[0m\u001b[0m\n\u001b[0m\u001b[1;32m    645\u001b[0m         \u001b[0;32mif\u001b[0m \u001b[0mself\u001b[0m\u001b[0;34m.\u001b[0m\u001b[0m_position\u001b[0m\u001b[0;34m.\u001b[0m\u001b[0mwidth\u001b[0m \u001b[0;34m<\u001b[0m \u001b[0;36m0\u001b[0m \u001b[0;32mor\u001b[0m \u001b[0mself\u001b[0m\u001b[0;34m.\u001b[0m\u001b[0m_position\u001b[0m\u001b[0;34m.\u001b[0m\u001b[0mheight\u001b[0m \u001b[0;34m<\u001b[0m \u001b[0;36m0\u001b[0m\u001b[0;34m:\u001b[0m\u001b[0;34m\u001b[0m\u001b[0;34m\u001b[0m\u001b[0m\n\u001b[1;32m    646\u001b[0m             \u001b[0;32mraise\u001b[0m \u001b[0mValueError\u001b[0m\u001b[0;34m(\u001b[0m\u001b[0;34m'Width and height specified must be non-negative'\u001b[0m\u001b[0;34m)\u001b[0m\u001b[0;34m\u001b[0m\u001b[0;34m\u001b[0m\u001b[0m\n",
            "\u001b[0;32m/usr/local/lib/python3.10/dist-packages/matplotlib/gridspec.py\u001b[0m in \u001b[0;36m_from_subplot_args\u001b[0;34m(figure, args)\u001b[0m\n\u001b[1;32m    596\u001b[0m         \u001b[0;32melse\u001b[0m\u001b[0;34m:\u001b[0m\u001b[0;34m\u001b[0m\u001b[0;34m\u001b[0m\u001b[0m\n\u001b[1;32m    597\u001b[0m             \u001b[0;32mif\u001b[0m \u001b[0;32mnot\u001b[0m \u001b[0misinstance\u001b[0m\u001b[0;34m(\u001b[0m\u001b[0mnum\u001b[0m\u001b[0;34m,\u001b[0m \u001b[0mIntegral\u001b[0m\u001b[0;34m)\u001b[0m \u001b[0;32mor\u001b[0m \u001b[0mnum\u001b[0m \u001b[0;34m<\u001b[0m \u001b[0;36m1\u001b[0m \u001b[0;32mor\u001b[0m \u001b[0mnum\u001b[0m \u001b[0;34m>\u001b[0m \u001b[0mrows\u001b[0m\u001b[0;34m*\u001b[0m\u001b[0mcols\u001b[0m\u001b[0;34m:\u001b[0m\u001b[0;34m\u001b[0m\u001b[0;34m\u001b[0m\u001b[0m\n\u001b[0;32m--> 598\u001b[0;31m                 raise ValueError(\n\u001b[0m\u001b[1;32m    599\u001b[0m                     \u001b[0;34mf\"num must be an integer with 1 <= num <= {rows*cols}, \"\u001b[0m\u001b[0;34m\u001b[0m\u001b[0;34m\u001b[0m\u001b[0m\n\u001b[1;32m    600\u001b[0m                     \u001b[0;34mf\"not {num!r}\"\u001b[0m\u001b[0;34m\u001b[0m\u001b[0;34m\u001b[0m\u001b[0m\n",
            "\u001b[0;31mValueError\u001b[0m: num must be an integer with 1 <= num <= 12, not 13"
          ]
        },
        {
          "output_type": "display_data",
          "data": {
            "text/plain": [
              "<Figure size 1600x1800 with 12 Axes>"
            ],
            "image/png": "[encoded data removed]"
          },
          "metadata": {}
        }
      ]
    }
  ]
}